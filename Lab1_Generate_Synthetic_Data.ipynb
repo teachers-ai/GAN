{
  "nbformat": 4,
  "nbformat_minor": 0,
  "metadata": {
    "colab": {
      "provenance": []
    },
    "kernelspec": {
      "name": "python3",
      "display_name": "Python 3"
    },
    "language_info": {
      "name": "python"
    }
  },
  "cells": [
    {
      "cell_type": "code",
      "execution_count": 1,
      "metadata": {
        "id": "58Q9eJ2pQii3"
      },
      "outputs": [],
      "source": [
        "import torch\n",
        "import torch.nn as nn\n",
        "import torch.nn.functional as F\n",
        "import matplotlib.pyplot as plt\n",
        "import cv2\n",
        "import torchvision.transforms as transforms"
      ]
    },
    {
      "cell_type": "code",
      "source": [
        "class Generator(nn.Module):\n",
        "    def __init__(self, ngpu):\n",
        "        super(Generator, self).__init__()\n",
        "        self.ngpu = ngpu\n",
        "        self.main = nn.Sequential(\n",
        "            # input is Z, going into a convolution\n",
        "            nn.ConvTranspose2d( nz, ngf * 8, 4, 1, 0, bias=False),\n",
        "            nn.BatchNorm2d(ngf * 8),\n",
        "            nn.ReLU(True),\n",
        "            # state size. ``(ngf*8) x 4 x 4``\n",
        "            nn.ConvTranspose2d(ngf * 8, ngf * 4, 4, 2, 1, bias=False),\n",
        "            nn.BatchNorm2d(ngf * 4),\n",
        "            nn.ReLU(True),\n",
        "            # state size. ``(ngf*4) x 8 x 8``\n",
        "            nn.ConvTranspose2d( ngf * 4, ngf * 2, 4, 2, 1, bias=False),\n",
        "            nn.BatchNorm2d(ngf * 2),\n",
        "            nn.ReLU(True),\n",
        "            # state size. ``(ngf*2) x 16 x 16``\n",
        "            nn.ConvTranspose2d( ngf * 2, ngf, 4, 2, 1, bias=False),\n",
        "            nn.BatchNorm2d(ngf),\n",
        "            nn.ReLU(True),\n",
        "            # state size. ``(ngf) x 32 x 32``\n",
        "            nn.ConvTranspose2d( ngf, nc, 4, 2, 1, bias=False),\n",
        "            nn.Tanh()\n",
        "            # state size. ``(nc) x 64 x 64``\n",
        "        )\n",
        "\n",
        "    def forward(self, input):\n",
        "        return self.main(input)"
      ],
      "metadata": {
        "id": "d8NRIwjnQl3V"
      },
      "execution_count": 2,
      "outputs": []
    },
    {
      "cell_type": "markdown",
      "source": [
        "#load Model"
      ],
      "metadata": {
        "id": "mFv7UCa2RM3A"
      }
    },
    {
      "cell_type": "code",
      "source": [
        "model = torch.load('face.pth')"
      ],
      "metadata": {
        "id": "WZcrjhkhQnsR"
      },
      "execution_count": null,
      "outputs": []
    },
    {
      "cell_type": "markdown",
      "source": [
        "#Generate Image"
      ],
      "metadata": {
        "id": "nkTKOGGORQtt"
      }
    },
    {
      "cell_type": "code",
      "source": [
        "inv_normalize = transforms.Normalize(\n",
        "    mean=[-0.485/0.5, -0.456/0.5, -0.406/0.5],\n",
        "    std=[1/0.5, 1/0.5, 1/0.5]\n",
        ")\n",
        "\n",
        "def get_image(model):\n",
        "  noise = torch.randn(20, 100, 1, 1)\n",
        "  output = model(noise)\n",
        "  inv_tensor = inv_normalize(output)\n",
        "  output = inv_tensor.permute(0,2,3,1).detach().numpy()\n",
        "  return output"
      ],
      "metadata": {
        "id": "EzWXfWgDQuKj"
      },
      "execution_count": 4,
      "outputs": []
    },
    {
      "cell_type": "markdown",
      "source": [
        "#load DL template"
      ],
      "metadata": {
        "id": "XooG1ykpRVS5"
      }
    },
    {
      "cell_type": "code",
      "source": [],
      "metadata": {
        "id": "k5pax4rERMIz"
      },
      "execution_count": 4,
      "outputs": []
    },
    {
      "cell_type": "markdown",
      "source": [
        "#Add Profile Picture"
      ],
      "metadata": {
        "id": "mf0eMgRsRaou"
      }
    },
    {
      "cell_type": "code",
      "source": [],
      "metadata": {
        "id": "dlZyz8R_Rbfd"
      },
      "execution_count": null,
      "outputs": []
    },
    {
      "cell_type": "markdown",
      "source": [
        "# Add text"
      ],
      "metadata": {
        "id": "BmwbJStWRhHk"
      }
    },
    {
      "cell_type": "code",
      "source": [],
      "metadata": {
        "id": "IUAu3VrNRj_u"
      },
      "execution_count": null,
      "outputs": []
    }
  ]
}