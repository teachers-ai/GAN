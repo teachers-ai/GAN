{
  "nbformat": 4,
  "nbformat_minor": 0,
  "metadata": {
    "colab": {
      "provenance": [],
      "gpuType": "T4"
    },
    "kernelspec": {
      "name": "python3",
      "display_name": "Python 3"
    },
    "language_info": {
      "name": "python"
    },
    "accelerator": "GPU"
  },
  "cells": [
    {
      "cell_type": "code",
      "execution_count": null,
      "metadata": {
        "id": "m_ZOlrjNd97_"
      },
      "outputs": [],
      "source": [
        "import torch\n",
        "from torchvision import datasets, transforms\n",
        "from torch.utils.data import DataLoader\n",
        "from torchvision.utils import make_grid\n",
        "import matplotlib.pyplot as plt\n",
        "from torch import nn\n",
        "from torch import optim\n",
        "import torch.nn.functional as F"
      ]
    },
    {
      "cell_type": "code",
      "source": [
        "transform= transforms.ToTensor()\n",
        "mnist_pytorch = datasets.MNIST(root='./data', train=True, download=True, transform=transform)"
      ],
      "metadata": {
        "id": "UjzpUrTDd_49"
      },
      "execution_count": null,
      "outputs": []
    },
    {
      "cell_type": "code",
      "source": [],
      "metadata": {
        "id": "-4IK_jlmvOiB"
      },
      "execution_count": null,
      "outputs": []
    },
    {
      "cell_type": "code",
      "source": [],
      "metadata": {
        "id": "IkShLo7Kvk0t"
      },
      "execution_count": null,
      "outputs": []
    },
    {
      "cell_type": "code",
      "source": [
        "class Discriminator(nn.Module):\n",
        "    def __init__(self):\n",
        "        super(Discriminator, self).__init__()\n",
        "        self.fc1 = nn.Linear(784, 1024)\n",
        "        self.fc2 = nn.Linear(1024, 512)\n",
        "        self.fc3 = nn.Linear(512, 256)\n",
        "        self.fc4 = nn.Linear(256, 1)\n",
        "\n",
        "    def forward(self, x):\n",
        "        x = nn.functional.leaky_relu(self.fc1(x), 0.2)\n",
        "        x = nn.functional.leaky_relu(self.fc2(x), 0.2)\n",
        "        x = nn.functional.leaky_relu(self.fc3(x), 0.2)\n",
        "        x = nn.functional.sigmoid(self.fc4(x))\n",
        "        return x\n",
        "\n",
        "class Generator(nn.Module):\n",
        "    def __init__(self):\n",
        "        super(Generator, self).__init__()\n",
        "        self.fc1 = nn.Linear(100, 256)\n",
        "        self.fc2 = nn.Linear(256, 512)\n",
        "        self.fc3 = nn.Linear(512, 1024)\n",
        "        self.fc4 = nn.Linear(1024, 784)\n",
        "\n",
        "    def forward(self, x):\n",
        "        x = nn.functional.leaky_relu(self.fc1(x), 0.2)\n",
        "        x = nn.functional.leaky_relu(self.fc2(x), 0.2)\n",
        "        x = nn.functional.leaky_relu(self.fc3(x), 0.2)\n",
        "        x = nn.functional.tanh(self.fc4(x))\n",
        "        return x"
      ],
      "metadata": {
        "id": "SJRuB3ATvwE3"
      },
      "execution_count": null,
      "outputs": []
    },
    {
      "cell_type": "code",
      "source": [
        "device=torch.device(\"cuda\" if torch.cuda.is_available() else \"cpu\")"
      ],
      "metadata": {
        "id": "TF6HV0bluV1p"
      },
      "execution_count": null,
      "outputs": []
    },
    {
      "cell_type": "code",
      "source": [
        "BATCH_SIZE = 32\n",
        "N_EPOCHS = 10\n",
        "LEARNING_RATE = 0.0002\n",
        "dataloader =DataLoader(mnist_pytorch, batch_size=BATCH_SIZE)\n",
        "netD = Discriminator().to(device)\n",
        "netG = Generator().to(device)\n",
        "\n",
        "optimizerD = optim.Adam(netD.parameters(), lr=LEARNING_RATE, betas=(0.5, 0.999))\n",
        "optimizerG = optim.Adam(netG.parameters(), lr=LEARNING_RATE, betas=(0.5, 0.999))\n",
        "criterion = nn.BCELoss()"
      ],
      "metadata": {
        "id": "QoYhQmVz-yvw"
      },
      "execution_count": null,
      "outputs": []
    },
    {
      "cell_type": "code",
      "source": [
        "print(device)"
      ],
      "metadata": {
        "colab": {
          "base_uri": "https://localhost:8080/"
        },
        "id": "zLu0jxvQVmvv",
        "outputId": "abf69281-ea47-4f4e-abbc-49ef3806ae03"
      },
      "execution_count": null,
      "outputs": [
        {
          "output_type": "stream",
          "name": "stdout",
          "text": [
            "cuda\n"
          ]
        }
      ]
    },
    {
      "cell_type": "code",
      "source": [
        "for epoch in range(N_EPOCHS):\n",
        "\n",
        "    for i, batch in enumerate(dataloader):\n",
        "        # Train discriminator\n",
        "        size = batch[0].shape[0]\n",
        "        netD.zero_grad()\n",
        "        noise = torch.randn((size, 100)).view(-1, 100).to(device)\n",
        "        real_images = batch[0].to(device)\n",
        "        real_images = real_images.view(-1, 784)\n",
        "        real_labels = torch.ones((size, 1)).to(device)\n",
        "        output_real = netD(real_images)\n",
        "        errD_real = criterion(output_real, real_labels)\n",
        "\n",
        "        fake_labels = torch.zeros((size, 1)).to(device)\n",
        "        fake_images = netG(noise)\n",
        "        output_fake = netD(fake_images)\n",
        "        errD_fake = criterion(output_fake, fake_labels)\n",
        "        d_loss = (errD_real + errD_fake)/2\n",
        "        d_loss.backward()\n",
        "        optimizerD.step()\n",
        "\n",
        "\n",
        "        # Train generator\n",
        "        # G > D\n",
        "        netG.zero_grad()\n",
        "        noise = torch.randn((size, 100)).view(-1, 100).to(device)\n",
        "        fake_images = netG(noise)\n",
        "        output = netD(fake_images)\n",
        "\n",
        "        errG = criterion(output, real_labels)\n",
        "        errG.backward()\n",
        "        optimizerG.step()\n",
        "    # Print progress\n",
        "    print(f\"Epoch [{epoch+1}/{N_EPOCHS}] Loss D: {d_loss:.4f}, Loss G: {errG:.4f}\")\n"
      ],
      "metadata": {
        "colab": {
          "base_uri": "https://localhost:8080/"
        },
        "id": "05K2eczFwP7E",
        "outputId": "ce0a657d-71e4-4463-a3b6-d04fca6b1d96"
      },
      "execution_count": null,
      "outputs": [
        {
          "output_type": "stream",
          "name": "stdout",
          "text": [
            "Epoch [1/10] Loss D: 0.3228, Loss G: 2.7978\n",
            "Epoch [2/10] Loss D: 0.3426, Loss G: 2.9076\n",
            "Epoch [3/10] Loss D: 0.1846, Loss G: 3.7529\n",
            "Epoch [4/10] Loss D: 0.1078, Loss G: 3.3924\n",
            "Epoch [5/10] Loss D: 0.1678, Loss G: 5.0425\n",
            "Epoch [6/10] Loss D: 0.0607, Loss G: 5.5164\n",
            "Epoch [7/10] Loss D: 0.0176, Loss G: 4.5725\n",
            "Epoch [8/10] Loss D: 0.0614, Loss G: 4.6271\n",
            "Epoch [9/10] Loss D: 0.0823, Loss G: 5.2070\n",
            "Epoch [10/10] Loss D: 0.0586, Loss G: 4.5489\n"
          ]
        }
      ]
    },
    {
      "cell_type": "code",
      "source": [
        "noise = torch.randn((size, 100)).view(-1, 100).to(device)"
      ],
      "metadata": {
        "id": "zAiEeefsV0z0"
      },
      "execution_count": null,
      "outputs": []
    },
    {
      "cell_type": "code",
      "source": [
        "output =netG(noise)"
      ],
      "metadata": {
        "id": "avwyII8DDUuB"
      },
      "execution_count": null,
      "outputs": []
    },
    {
      "cell_type": "code",
      "source": [
        "output = output.view(-1, 1,  28, 28)\n",
        "grid = make_grid(output, nrow=10).cpu().detach().numpy()\n",
        "grid.shape"
      ],
      "metadata": {
        "colab": {
          "base_uri": "https://localhost:8080/"
        },
        "id": "z2xDhw81z-Aj",
        "outputId": "87f5c44c-7ae0-4ddb-b0dd-97d6003746c7"
      },
      "execution_count": null,
      "outputs": [
        {
          "output_type": "execute_result",
          "data": {
            "text/plain": [
              "(3, 122, 302)"
            ]
          },
          "metadata": {},
          "execution_count": 128
        }
      ]
    },
    {
      "cell_type": "code",
      "source": [
        "output.shape"
      ],
      "metadata": {
        "colab": {
          "base_uri": "https://localhost:8080/"
        },
        "id": "tqtkr6ofz__h",
        "outputId": "a75b147d-74a6-4da5-aae9-7a4107db3563"
      },
      "execution_count": null,
      "outputs": [
        {
          "output_type": "execute_result",
          "data": {
            "text/plain": [
              "torch.Size([32, 1, 28, 28])"
            ]
          },
          "metadata": {},
          "execution_count": 129
        }
      ]
    },
    {
      "cell_type": "code",
      "source": [
        "plt.imshow(grid[0]>0.5)"
      ],
      "metadata": {
        "id": "vU8RNM6y0y2N",
        "colab": {
          "base_uri": "https://localhost:8080/",
          "height": 283
        },
        "outputId": "003526bd-533d-43da-fb21-4a2a32efbdc8"
      },
      "execution_count": null,
      "outputs": [
        {
          "output_type": "execute_result",
          "data": {
            "text/plain": [
              "<matplotlib.image.AxesImage at 0x7b1ffccb8910>"
            ]
          },
          "metadata": {},
          "execution_count": 130
        },
        {
          "output_type": "display_data",
          "data": {
            "text/plain": [
              "<Figure size 640x480 with 1 Axes>"
            ],
            "image/png": "[encoded data removed]"
          },
          "metadata": {}
        }
      ]
    },
    {
      "cell_type": "code",
      "source": [],
      "metadata": {
        "id": "wzdUqmqJiYnX"
      },
      "execution_count": null,
      "outputs": []
    },
    {
      "cell_type": "code",
      "source": [],
      "metadata": {
        "id": "BU3Sb_3n0A83"
      },
      "execution_count": null,
      "outputs": []
    }
  ]
}